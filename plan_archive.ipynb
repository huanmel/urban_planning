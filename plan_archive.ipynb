{
 "cells": [
  {
   "cell_type": "code",
   "execution_count": null,
   "metadata": {},
   "outputs": [],
   "source": [
    "# try to construct roads to houses\n",
    "#  construct restrictions without road\n",
    "roads_uni=shapely.unary_union(roads2)\n",
    "roads_to_houses=[]\n",
    "for zone in build_zones1:\n",
    "    houses_in_zone=[]\n",
    "    # find all houses in the zone\n",
    "    \n",
    "    for house in houses_areas:\n",
    "        if zone.contains(house):\n",
    "            houses_in_zone.append(house.buffer(1))\n",
    "    \n",
    "    #find nearest point between houses in zone and road\n",
    "    \n",
    "    house_road_dist=np.zeros((len(houses_in_zone)))\n",
    "    for i, zone in enumerate(houses_in_zone):\n",
    "        connect_points = nearest_points(zone, roads_uni)\n",
    "        house_road_dist[i]=connect_points[0].distance(connect_points[1])\n",
    "    \n",
    "    min_dist_idx = np.argmin(house_road_dist)\n",
    "    houses_in_zone_to_conn=houses_in_zone.copy()\n",
    "    obj_to_con=roads_uni\n",
    "    while houses_in_zone_to_conn:\n",
    "        next_house_to_conn=houses_in_zone_to_conn[min_dist_idx]\n",
    "        connect_points = nearest_points(obj_to_con,next_house_to_conn)\n",
    "        path_between_points=utils_func.build_robot_path(connect_points[0],connect_points[1], valid_build_zone0, restricted_area1, grid_size=4, spline_points=10, smooth=False)\n",
    "        roads_to_houses.append(path_between_points)\n",
    "        \n",
    "        obj_to_con=houses_in_zone_to_conn.pop(min_dist_idx)\n",
    "        \n",
    "        if len(houses_in_zone_to_conn)<1:\n",
    "            break\n",
    "        \n",
    "        house_road_dist=np.zeros((len(houses_in_zone_to_conn)))\n",
    "        for i, zone1 in enumerate(houses_in_zone_to_conn):\n",
    "            connect_points = nearest_points(obj_to_con, zone1)\n",
    "            house_road_dist[i]=connect_points[0].distance(connect_points[1])\n",
    "    \n",
    "        min_dist_idx = np.argmin(house_road_dist)\n",
    "\n",
    "    # houses_in_zone_uni=shapely.unary_union(houses_in_zone)\n",
    "    # connect_points = nearest_points(houses_in_zone_uni, roads_uni)\n",
    "    # # find which house is the first to be connected\n",
    "    # for \n",
    "    "
   ]
  }
 ],
 "metadata": {
  "language_info": {
   "name": "python"
  }
 },
 "nbformat": 4,
 "nbformat_minor": 2
}
